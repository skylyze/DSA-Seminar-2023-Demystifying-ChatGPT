{
 "cells": [
  {
   "cell_type": "code",
   "execution_count": 1,
   "id": "f2ced7a4-0ba6-45c3-b7cf-1ce006a07d13",
   "metadata": {},
   "outputs": [],
   "source": [
    "!pip install transformers datasets peft pandas scikit-learn -q"
   ]
  },
  {
   "cell_type": "code",
   "execution_count": 2,
   "id": "55189e2f-95d6-4edf-9a56-23fffc4aa7c7",
   "metadata": {},
   "outputs": [],
   "source": [
    "import torch\n",
    "from datasets import load_dataset, Dataset\n",
    "from transformers import (\n",
    "    RobertaTokenizerFast,\n",
    "    RobertaForSequenceClassification,\n",
    "    TrainingArguments,\n",
    "    Trainer,\n",
    "    AutoConfig,\n",
    "    pipeline\n",
    ")\n",
    "from peft import LoraConfig, get_peft_model, PeftConfig, PeftModel\n",
    "import peft\n",
    "import pandas as pd\n",
    "from sklearn.model_selection import train_test_split"
   ]
  },
  {
   "cell_type": "code",
   "execution_count": 3,
   "id": "26c10a0a-2556-4465-9a1e-83c6830de657",
   "metadata": {},
   "outputs": [],
   "source": [
    "def print_trainable_parameters(model):\n",
    "    trainable_params = 0\n",
    "    all_param = 0\n",
    "    for _, param in model.named_parameters():\n",
    "        all_param += param.numel()\n",
    "        if param.requires_grad:\n",
    "            trainable_params += param.numel()\n",
    "    print(\n",
    "        f\"trainable params: {trainable_params} || all params: {all_param} || trainable%: {100 * trainable_params / all_param:.2f}\"\n",
    "    )"
   ]
  },
  {
   "cell_type": "code",
   "execution_count": 4,
   "id": "4cdea33f-0fd9-4c59-a4c5-bb7d3a9f3a7e",
   "metadata": {},
   "outputs": [],
   "source": [
    "model_id = \"roberta-base\"\n",
    "repository_id = \"roberta-base-fine-tuned\"\n",
    "label_column = \"ground_truth\""
   ]
  },
  {
   "cell_type": "code",
   "execution_count": 5,
   "id": "258cc1a8-f18d-4120-b875-930a1c459ed3",
   "metadata": {},
   "outputs": [
    {
     "name": "stdout",
     "output_type": "stream",
     "text": [
      "Index(['comment', 'failure_mode', 'failed_component', 'ground_truth',\n",
      "       'creator'],\n",
      "      dtype='object')\n",
      "['Engine and Transmission Failures' 'Electrical System Failures'\n",
      " 'Brake System Failures' 'Suspension and Steering Failures'\n",
      " 'Airbag and Safety System Failures' 'Fuel System Failures'\n",
      " 'Exhaust System Failures' 'Cooling System Failures' 'Tire Failures'\n",
      " 'Electronic Component Failures']\n"
     ]
    }
   ],
   "source": [
    "\n",
    "df = pd.read_parquet('automotive_failure_mode_comments_01.parquet')\n",
    "print(df.keys())\n",
    "print(df[label_column].unique())"
   ]
  },
  {
   "cell_type": "code",
   "execution_count": 6,
   "id": "119e86d9-79c6-4283-859b-769029afa959",
   "metadata": {},
   "outputs": [
    {
     "data": {
      "application/vnd.jupyter.widget-view+json": {
       "model_id": "4efe3ed14baa45a99f68784cbfafffe5",
       "version_major": 2,
       "version_minor": 0
      },
      "text/plain": [
       "Map:   0%|          | 0/800 [00:00<?, ? examples/s]"
      ]
     },
     "metadata": {},
     "output_type": "display_data"
    },
    {
     "data": {
      "application/vnd.jupyter.widget-view+json": {
       "model_id": "167665917a1d46c793d657072b1cb268",
       "version_major": 2,
       "version_minor": 0
      },
      "text/plain": [
       "Map:   0%|          | 0/200 [00:00<?, ? examples/s]"
      ]
     },
     "metadata": {},
     "output_type": "display_data"
    }
   ],
   "source": [
    "# Load dataset\n",
    "df = pd.read_parquet('automotive_failure_mode_comments_01.parquet')\n",
    "df_fine_tuning = pd.DataFrame()\n",
    "df_fine_tuning[\"text\"] = df[\"comment\"]\n",
    "df_fine_tuning[\"label\"] = df[label_column]\n",
    "\n",
    "labels = df_fine_tuning[\"label\"].unique()\n",
    "label2id, id2label = dict(), dict()\n",
    "for i, label in enumerate(labels):\n",
    "    label2id[label] = i\n",
    "    id2label[i] = label\n",
    "df_fine_tuning[\"label\"] = df_fine_tuning[\"label\"].map(label2id)\n",
    "\n",
    "train_text, val_text, train_labels, val_labels = train_test_split(\n",
    "    df_fine_tuning[\"text\"].tolist(), df_fine_tuning[\"label\"].tolist(), test_size=0.2, random_state=1909\n",
    ")\n",
    "train_data = {\"text\": train_text}\n",
    "train_data[\"label\"] = train_labels\n",
    "train_dataset = Dataset.from_dict(train_data).with_format(\"torch\")\n",
    "val_data = {\"text\": val_text}\n",
    "val_data[\"label\"] = val_labels\n",
    "val_dataset = Dataset.from_dict(val_data).with_format(\"torch\")\n",
    "\n",
    "# Preprocessing\n",
    "tokenizer = RobertaTokenizerFast.from_pretrained(model_id)\n",
    "\n",
    "# This function tokenizes the input text using the RoBERTa tokenizer. \n",
    "# It applies padding and truncation to ensure that all sequences have the same length (256 tokens).\n",
    "def tokenize(batch):\n",
    "    return tokenizer(batch[\"text\"], padding=True, truncation=True, max_length=256)\n",
    "\n",
    "train_dataset = train_dataset.map(tokenize, batched=True, batch_size=len(train_dataset))\n",
    "val_dataset = val_dataset.map(tokenize, batched=True, batch_size=len(val_dataset))"
   ]
  },
  {
   "cell_type": "code",
   "execution_count": 7,
   "id": "716073f0-9106-434e-ae88-8784b29823d8",
   "metadata": {},
   "outputs": [],
   "source": [
    "# Set dataset format\n",
    "train_dataset.set_format(\"torch\", columns=[\"input_ids\", \"attention_mask\", \"label\"])\n",
    "val_dataset.set_format(\"torch\", columns=[\"input_ids\", \"attention_mask\", \"label\"])"
   ]
  },
  {
   "cell_type": "code",
   "execution_count": 8,
   "id": "af53c8cb-8336-4335-a0ca-d64b383d3dc4",
   "metadata": {},
   "outputs": [],
   "source": [
    "# Update the model's configuration with the id2label mapping\n",
    "config = AutoConfig.from_pretrained(model_id)\n",
    "config.update({\"id2label\": id2label})"
   ]
  },
  {
   "cell_type": "code",
   "execution_count": 9,
   "id": "3b836860-2507-4d0e-b055-69d0d8fb62fd",
   "metadata": {},
   "outputs": [
    {
     "name": "stderr",
     "output_type": "stream",
     "text": [
      "Some weights of RobertaForSequenceClassification were not initialized from the model checkpoint at roberta-base and are newly initialized: ['classifier.dense.weight', 'classifier.out_proj.bias', 'classifier.dense.bias', 'classifier.out_proj.weight']\n",
      "You should probably TRAIN this model on a down-stream task to be able to use it for predictions and inference.\n"
     ]
    },
    {
     "name": "stdout",
     "output_type": "stream",
     "text": [
      "trainable params: 124653322 || all params: 124653322 || trainable%: 100.00\n",
      "trainable params: 1786388 || all params: 125841428 || trainable%: 1.42\n"
     ]
    }
   ],
   "source": [
    "# Model\n",
    "model = RobertaForSequenceClassification.from_pretrained(model_id, config=config)\n",
    "print_trainable_parameters(model)\n",
    "\n",
    "# Create PEFT model for training using LoRA\n",
    "config = LoraConfig(\n",
    "    task_type=peft.utils.TaskType.SEQ_CLS,\n",
    "    r=16,\n",
    "    inference_mode=False,\n",
    "    lora_alpha=16,\n",
    "    lora_dropout=0.1,\n",
    "    modules_to_save=[\"classifier\"],\n",
    ")\n",
    "lora_model = get_peft_model(model, config)\n",
    "print_trainable_parameters(lora_model)\n",
    "\n",
    "# TrainingArguments\n",
    "training_args = TrainingArguments(\n",
    "    output_dir=repository_id,\n",
    "    num_train_epochs=30,\n",
    "    per_device_train_batch_size=8,\n",
    "    per_device_eval_batch_size=8,\n",
    "    evaluation_strategy=\"epoch\",\n",
    "    logging_dir=f\"{repository_id}/logs\",\n",
    "    logging_strategy=\"steps\",\n",
    "    logging_steps=10,\n",
    "    learning_rate=5e-5,\n",
    "    weight_decay=0.01,\n",
    "    warmup_steps=500,\n",
    "    save_strategy=\"epoch\",\n",
    "    load_best_model_at_end=True,\n",
    "    save_total_limit=2,\n",
    "    report_to=\"tensorboard\",\n",
    "    push_to_hub=False,\n",
    ")\n",
    "\n",
    "# Trainer\n",
    "trainer = Trainer(\n",
    "    model=lora_model,\n",
    "    args=training_args,\n",
    "    train_dataset=train_dataset,\n",
    "    eval_dataset=val_dataset,\n",
    ")"
   ]
  },
  {
   "cell_type": "code",
   "execution_count": 10,
   "id": "1997f50f-f9da-4749-8838-5ed9a5ea854d",
   "metadata": {},
   "outputs": [
    {
     "name": "stderr",
     "output_type": "stream",
     "text": [
      "/opt/conda/lib/python3.11/site-packages/transformers/optimization.py:411: FutureWarning: This implementation of AdamW is deprecated and will be removed in a future version. Use the PyTorch implementation torch.optim.AdamW instead, or set `no_deprecation_warning=True` to disable this warning\n",
      "  warnings.warn(\n"
     ]
    },
    {
     "data": {
      "text/html": [
       "\n",
       "    <div>\n",
       "      \n",
       "      <progress value='3000' max='3000' style='width:300px; height:20px; vertical-align: middle;'></progress>\n",
       "      [3000/3000 09:31, Epoch 30/30]\n",
       "    </div>\n",
       "    <table border=\"1\" class=\"dataframe\">\n",
       "  <thead>\n",
       " <tr style=\"text-align: left;\">\n",
       "      <th>Epoch</th>\n",
       "      <th>Training Loss</th>\n",
       "      <th>Validation Loss</th>\n",
       "    </tr>\n",
       "  </thead>\n",
       "  <tbody>\n",
       "    <tr>\n",
       "      <td>1</td>\n",
       "      <td>2.298900</td>\n",
       "      <td>2.309881</td>\n",
       "    </tr>\n",
       "    <tr>\n",
       "      <td>2</td>\n",
       "      <td>2.297000</td>\n",
       "      <td>2.306543</td>\n",
       "    </tr>\n",
       "    <tr>\n",
       "      <td>3</td>\n",
       "      <td>2.245600</td>\n",
       "      <td>2.244951</td>\n",
       "    </tr>\n",
       "    <tr>\n",
       "      <td>4</td>\n",
       "      <td>0.940900</td>\n",
       "      <td>0.705232</td>\n",
       "    </tr>\n",
       "    <tr>\n",
       "      <td>5</td>\n",
       "      <td>0.295600</td>\n",
       "      <td>0.288302</td>\n",
       "    </tr>\n",
       "    <tr>\n",
       "      <td>6</td>\n",
       "      <td>0.185200</td>\n",
       "      <td>0.156455</td>\n",
       "    </tr>\n",
       "    <tr>\n",
       "      <td>7</td>\n",
       "      <td>0.119600</td>\n",
       "      <td>0.110040</td>\n",
       "    </tr>\n",
       "    <tr>\n",
       "      <td>8</td>\n",
       "      <td>0.100100</td>\n",
       "      <td>0.109432</td>\n",
       "    </tr>\n",
       "    <tr>\n",
       "      <td>9</td>\n",
       "      <td>0.059700</td>\n",
       "      <td>0.099239</td>\n",
       "    </tr>\n",
       "    <tr>\n",
       "      <td>10</td>\n",
       "      <td>0.022300</td>\n",
       "      <td>0.115211</td>\n",
       "    </tr>\n",
       "    <tr>\n",
       "      <td>11</td>\n",
       "      <td>0.055300</td>\n",
       "      <td>0.089163</td>\n",
       "    </tr>\n",
       "    <tr>\n",
       "      <td>12</td>\n",
       "      <td>0.060700</td>\n",
       "      <td>0.076814</td>\n",
       "    </tr>\n",
       "    <tr>\n",
       "      <td>13</td>\n",
       "      <td>0.012800</td>\n",
       "      <td>0.091346</td>\n",
       "    </tr>\n",
       "    <tr>\n",
       "      <td>14</td>\n",
       "      <td>0.047600</td>\n",
       "      <td>0.074033</td>\n",
       "    </tr>\n",
       "    <tr>\n",
       "      <td>15</td>\n",
       "      <td>0.004100</td>\n",
       "      <td>0.065842</td>\n",
       "    </tr>\n",
       "    <tr>\n",
       "      <td>16</td>\n",
       "      <td>0.003900</td>\n",
       "      <td>0.076610</td>\n",
       "    </tr>\n",
       "    <tr>\n",
       "      <td>17</td>\n",
       "      <td>0.010200</td>\n",
       "      <td>0.071424</td>\n",
       "    </tr>\n",
       "    <tr>\n",
       "      <td>18</td>\n",
       "      <td>0.008600</td>\n",
       "      <td>0.076192</td>\n",
       "    </tr>\n",
       "    <tr>\n",
       "      <td>19</td>\n",
       "      <td>0.002400</td>\n",
       "      <td>0.068282</td>\n",
       "    </tr>\n",
       "    <tr>\n",
       "      <td>20</td>\n",
       "      <td>0.002000</td>\n",
       "      <td>0.058520</td>\n",
       "    </tr>\n",
       "    <tr>\n",
       "      <td>21</td>\n",
       "      <td>0.013900</td>\n",
       "      <td>0.056846</td>\n",
       "    </tr>\n",
       "    <tr>\n",
       "      <td>22</td>\n",
       "      <td>0.012600</td>\n",
       "      <td>0.049569</td>\n",
       "    </tr>\n",
       "    <tr>\n",
       "      <td>23</td>\n",
       "      <td>0.085600</td>\n",
       "      <td>0.054718</td>\n",
       "    </tr>\n",
       "    <tr>\n",
       "      <td>24</td>\n",
       "      <td>0.005700</td>\n",
       "      <td>0.050606</td>\n",
       "    </tr>\n",
       "    <tr>\n",
       "      <td>25</td>\n",
       "      <td>0.025900</td>\n",
       "      <td>0.047536</td>\n",
       "    </tr>\n",
       "    <tr>\n",
       "      <td>26</td>\n",
       "      <td>0.008800</td>\n",
       "      <td>0.046589</td>\n",
       "    </tr>\n",
       "    <tr>\n",
       "      <td>27</td>\n",
       "      <td>0.004700</td>\n",
       "      <td>0.051238</td>\n",
       "    </tr>\n",
       "    <tr>\n",
       "      <td>28</td>\n",
       "      <td>0.010600</td>\n",
       "      <td>0.053527</td>\n",
       "    </tr>\n",
       "    <tr>\n",
       "      <td>29</td>\n",
       "      <td>0.002500</td>\n",
       "      <td>0.052746</td>\n",
       "    </tr>\n",
       "    <tr>\n",
       "      <td>30</td>\n",
       "      <td>0.021200</td>\n",
       "      <td>0.051004</td>\n",
       "    </tr>\n",
       "  </tbody>\n",
       "</table><p>"
      ],
      "text/plain": [
       "<IPython.core.display.HTML object>"
      ]
     },
     "metadata": {},
     "output_type": "display_data"
    },
    {
     "data": {
      "text/plain": [
       "TrainOutput(global_step=3000, training_loss=0.34221142426785084, metrics={'train_runtime': 571.4522, 'train_samples_per_second': 41.998, 'train_steps_per_second': 5.25, 'total_flos': 525222762624000.0, 'train_loss': 0.34221142426785084, 'epoch': 30.0})"
      ]
     },
     "execution_count": 10,
     "metadata": {},
     "output_type": "execute_result"
    }
   ],
   "source": [
    "# Fine-tune the model\n",
    "trainer.train()"
   ]
  },
  {
   "cell_type": "code",
   "execution_count": 11,
   "id": "4b32c0fe-b9d8-4db6-a761-50351993ab7d",
   "metadata": {},
   "outputs": [],
   "source": [
    "# Save our model\n",
    "lora_model.save_pretrained(repository_id)"
   ]
  },
  {
   "cell_type": "code",
   "execution_count": null,
   "id": "37d99542-55d4-4638-a57c-cb5d05a86588",
   "metadata": {},
   "outputs": [],
   "source": []
  }
 ],
 "metadata": {
  "kernelspec": {
   "display_name": "Python 3 (ipykernel)",
   "language": "python",
   "name": "python3"
  },
  "language_info": {
   "codemirror_mode": {
    "name": "ipython",
    "version": 3
   },
   "file_extension": ".py",
   "mimetype": "text/x-python",
   "name": "python",
   "nbconvert_exporter": "python",
   "pygments_lexer": "ipython3",
   "version": "3.11.4"
  }
 },
 "nbformat": 4,
 "nbformat_minor": 5
}
