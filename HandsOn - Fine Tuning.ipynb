{
 "cells": [
  {
   "cell_type": "code",
   "execution_count": null,
   "id": "f2ced7a4-0ba6-45c3-b7cf-1ce006a07d13",
   "metadata": {},
   "outputs": [],
   "source": [
    "# Install neccessary libraries\n",
    "!pip install transformers datasets peft pandas scikit-learn -q"
   ]
  },
  {
   "cell_type": "code",
   "execution_count": null,
   "id": "55189e2f-95d6-4edf-9a56-23fffc4aa7c7",
   "metadata": {},
   "outputs": [],
   "source": [
    "# Import libraries\n",
    "import torch\n",
    "from datasets import load_dataset, Dataset\n",
    "from transformers import (\n",
    "    RobertaTokenizerFast,\n",
    "    RobertaForSequenceClassification,\n",
    "    TrainingArguments,\n",
    "    Trainer,\n",
    "    AutoConfig,\n",
    "    pipeline\n",
    ")\n",
    "from peft import LoraConfig, get_peft_model, PeftConfig, PeftModel\n",
    "import peft\n",
    "import pandas as pd\n",
    "from sklearn.model_selection import train_test_split"
   ]
  },
  {
   "cell_type": "code",
   "execution_count": null,
   "id": "26c10a0a-2556-4465-9a1e-83c6830de657",
   "metadata": {},
   "outputs": [],
   "source": [
    "# Some function to take a look onto the trainable parameters\n",
    "def print_trainable_parameters(model):\n",
    "    trainable_params = 0\n",
    "    all_param = 0\n",
    "    for _, param in model.named_parameters():\n",
    "        all_param += param.numel()\n",
    "        if param.requires_grad:\n",
    "            trainable_params += param.numel()\n",
    "    print(\n",
    "        f\"trainable params: {trainable_params} || all params: {all_param} || trainable%: {100 * trainable_params / all_param:.2f}\"\n",
    "    )"
   ]
  },
  {
   "cell_type": "code",
   "execution_count": null,
   "id": "4cdea33f-0fd9-4c59-a4c5-bb7d3a9f3a7e",
   "metadata": {},
   "outputs": [],
   "source": [
    "# Setup the base structure and repository\n",
    "model_id = \"roberta-base\"\n",
    "repository_id = \"roberta-base-fine-tuned\"\n",
    "label_column = \"ground_truth\""
   ]
  },
  {
   "cell_type": "code",
   "execution_count": null,
   "id": "258cc1a8-f18d-4120-b875-930a1c459ed3",
   "metadata": {},
   "outputs": [],
   "source": [
    "# Load the data\n",
    "df = pd.read_parquet('automotive_failure_mode_comments.parquet')\n",
    "print(df.keys())\n",
    "print(df[label_column].unique())"
   ]
  },
  {
   "cell_type": "code",
   "execution_count": null,
   "id": "119e86d9-79c6-4283-859b-769029afa959",
   "metadata": {},
   "outputs": [],
   "source": [
    "# Prepare training and validation datasets\n",
    "df = pd.read_parquet('automotive_failure_mode_comments.parquet')\n",
    "df_fine_tuning = pd.DataFrame()\n",
    "df_fine_tuning[\"text\"] = df[\"comment\"]\n",
    "df_fine_tuning[\"label\"] = df[label_column]\n",
    "\n",
    "# Mapping from label to integer (and vice versa)\n",
    "labels = df_fine_tuning[\"label\"].unique()\n",
    "label2id, id2label = dict(), dict()\n",
    "for i, label in enumerate(labels):\n",
    "    label2id[label] = i\n",
    "    id2label[i] = label\n",
    "df_fine_tuning[\"label\"] = df_fine_tuning[\"label\"].map(label2id)\n",
    "\n",
    "train_text, val_text, train_labels, val_labels = train_test_split(\n",
    "    df_fine_tuning[\"text\"].tolist(), df_fine_tuning[\"label\"].tolist(), test_size=0.2, random_state=1909\n",
    ")\n",
    "train_data = {\"text\": train_text}\n",
    "train_data[\"label\"] = train_labels\n",
    "train_dataset = Dataset.from_dict(train_data).with_format(\"torch\")\n",
    "val_data = {\"text\": val_text}\n",
    "val_data[\"label\"] = val_labels\n",
    "val_dataset = Dataset.from_dict(val_data).with_format(\"torch\")\n",
    "\n",
    "# Initialize tokenizer to preprocess the data\n",
    "tokenizer = RobertaTokenizerFast.from_pretrained(model_id)\n",
    "\n",
    "# This function tokenizes the input text using the RoBERTa tokenizer. \n",
    "# It applies padding and truncation to ensure that all sequences have the same length (256 tokens).\n",
    "def tokenize(batch):\n",
    "    return tokenizer(batch[\"text\"], padding=True, truncation=True, max_length=256)\n",
    "\n",
    "train_dataset = train_dataset.map(tokenize, batched=True, batch_size=len(train_dataset))\n",
    "val_dataset = val_dataset.map(tokenize, batched=True, batch_size=len(val_dataset))"
   ]
  },
  {
   "cell_type": "code",
   "execution_count": null,
   "id": "716073f0-9106-434e-ae88-8784b29823d8",
   "metadata": {},
   "outputs": [],
   "source": [
    "# Set dataset format\n",
    "train_dataset.set_format(\"torch\", columns=[\"input_ids\", \"attention_mask\", \"label\"])\n",
    "val_dataset.set_format(\"torch\", columns=[\"input_ids\", \"attention_mask\", \"label\"])"
   ]
  },
  {
   "cell_type": "code",
   "execution_count": null,
   "id": "3b836860-2507-4d0e-b055-69d0d8fb62fd",
   "metadata": {},
   "outputs": [],
   "source": [
    "# Setup/configure the training\n",
    "\n",
    "# Update the model's configuration with the id2label mapping\n",
    "config = AutoConfig.from_pretrained(model_id)\n",
    "config.update({\"id2label\": id2label})\n",
    "\n",
    "# Model\n",
    "model = RobertaForSequenceClassification.from_pretrained(model_id, config=config)\n",
    "print_trainable_parameters(model)\n",
    "\n",
    "# Create PEFT model for training using LoRA\n",
    "config = LoraConfig(\n",
    "    task_type=peft.utils.TaskType.SEQ_CLS,\n",
    "    r=16,\n",
    "    inference_mode=False,\n",
    "    lora_alpha=16,\n",
    "    lora_dropout=0.1,\n",
    "    modules_to_save=[\"classifier\"],\n",
    ")\n",
    "lora_model = get_peft_model(model, config)\n",
    "print_trainable_parameters(lora_model)\n",
    "\n",
    "# TrainingArguments\n",
    "training_args = TrainingArguments(\n",
    "    output_dir=repository_id,\n",
    "    num_train_epochs=30,\n",
    "    per_device_train_batch_size=8,\n",
    "    per_device_eval_batch_size=8,\n",
    "    evaluation_strategy=\"epoch\",\n",
    "    logging_dir=f\"{repository_id}/logs\",\n",
    "    logging_strategy=\"steps\",\n",
    "    logging_steps=10,\n",
    "    learning_rate=5e-5,\n",
    "    weight_decay=0.01,\n",
    "    warmup_steps=500,\n",
    "    save_strategy=\"epoch\",\n",
    "    load_best_model_at_end=True,\n",
    "    save_total_limit=2,\n",
    "    report_to=\"tensorboard\",\n",
    "    push_to_hub=False,\n",
    ")\n",
    "\n",
    "# Trainer\n",
    "trainer = Trainer(\n",
    "    model=lora_model,\n",
    "    args=training_args,\n",
    "    train_dataset=train_dataset,\n",
    "    eval_dataset=val_dataset,\n",
    ")"
   ]
  },
  {
   "cell_type": "code",
   "execution_count": null,
   "id": "1997f50f-f9da-4749-8838-5ed9a5ea854d",
   "metadata": {},
   "outputs": [],
   "source": [
    "# Fine-tune the model\n",
    "trainer.train()"
   ]
  },
  {
   "cell_type": "code",
   "execution_count": null,
   "id": "4b32c0fe-b9d8-4db6-a761-50351993ab7d",
   "metadata": {},
   "outputs": [],
   "source": [
    "# Save our model\n",
    "lora_model.save_pretrained(repository_id)"
   ]
  }
 ],
 "metadata": {
  "kernelspec": {
   "display_name": "Python 3 (ipykernel)",
   "language": "python",
   "name": "python3"
  },
  "language_info": {
   "codemirror_mode": {
    "name": "ipython",
    "version": 3
   },
   "file_extension": ".py",
   "mimetype": "text/x-python",
   "name": "python",
   "nbconvert_exporter": "python",
   "pygments_lexer": "ipython3",
   "version": "3.11.4"
  }
 },
 "nbformat": 4,
 "nbformat_minor": 5
}
