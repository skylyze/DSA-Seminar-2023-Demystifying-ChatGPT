{
 "cells": [
  {
   "cell_type": "code",
   "execution_count": null,
   "id": "2c93f38d-bdb3-45bc-a222-4b3a28c32285",
   "metadata": {},
   "outputs": [],
   "source": []
  },
  {
   "cell_type": "code",
   "execution_count": null,
   "id": "41f2e2ef-d104-4c6f-b8dd-aafbd8414c79",
   "metadata": {},
   "outputs": [],
   "source": [
    "!pip install transformers datasets peft pandas scikit-learn -q"
   ]
  },
  {
   "cell_type": "code",
   "execution_count": 28,
   "id": "a3b51973-79d2-420c-bc07-c8eff7c68365",
   "metadata": {},
   "outputs": [],
   "source": [
    "from datasets import load_dataset, Dataset\n",
    "from transformers import (\n",
    "    AutoTokenizer,\n",
    "    AutoModelForSequenceClassification,\n",
    "    RobertaTokenizerFast,\n",
    "    RobertaForSequenceClassification,\n",
    "    TrainingArguments,\n",
    "    Trainer,\n",
    "    AutoConfig,\n",
    "    pipeline\n",
    ")\n",
    "from evaluate import evaluator\n",
    "import evaluate\n",
    "from peft import LoraConfig, get_peft_model, PeftConfig, PeftModel\n",
    "import peft\n",
    "import pandas as pd\n",
    "import random\n",
    "from sklearn.model_selection import train_test_split"
   ]
  },
  {
   "cell_type": "markdown",
   "id": "3674c7b1-649c-4df0-8b12-ce5c6a979d97",
   "metadata": {},
   "source": [
    "# Demystifying Chat GP\n",
    "## Use-Case: Text Classification\n",
    "Text Classification is the task of assigning a label or class to a given text. Some use cases are sentiment analysis, natural language inference, and assessing grammatical correctness.\n",
    "\n",
    "LLMs, which are capable to perform textclassification tasks are in general explicitly trained on the requested labels.\n",
    "\n",
    "E.g. the model Roberta-base_ag_newsl is a fine-tuned version of roberta-base on the ag_news datase and can map the text to the classes World, Sports, Business, Sci/Tech."
   ]
  },
  {
   "cell_type": "code",
   "execution_count": 7,
   "id": "14312011-ea24-4992-8143-b119d6a2a94c",
   "metadata": {},
   "outputs": [
    {
     "name": "stderr",
     "output_type": "stream",
     "text": [
      "Xformers is not installed correctly. If you want to use memory_efficient_attention to accelerate training use the following command to install Xformers\n",
      "pip install xformers.\n"
     ]
    }
   ],
   "source": [
    "# To use such a model you can simply set it up\n",
    "classifier = pipeline('text-classification','achimoraites/roberta-base_ag_news')"
   ]
  },
  {
   "cell_type": "code",
   "execution_count": 8,
   "id": "73bd7fe6-b85b-45a5-854b-eadd7cba4dcf",
   "metadata": {},
   "outputs": [
    {
     "name": "stdout",
     "output_type": "stream",
     "text": [
      "[{'label': 'Sci/Tech', 'score': 0.9806562662124634}]\n",
      "[{'label': 'Sports', 'score': 0.9885386824607849}]\n",
      "[{'label': 'Business', 'score': 0.9916352033615112}]\n",
      "[{'label': 'Sci/Tech', 'score': 0.9826299548149109}]\n"
     ]
    }
   ],
   "source": [
    "news = [\"Talks End With No U.S. Climate Deal A U.N. conference ended early Saturday with a vague plan for informal new talks on how to slow global warming but without a U.S. commitment to multilateral negotiations on next steps, including emissions controls.\",\n",
    "        \"Texas' Johnson, Benson Go Out With Win (AP) AP - Their final games will be remembered for the plays others made. Still, Texas tailback Cedric Benson and linebacker Derrick Johnson went out the way they wanted to: with a Rose Bowl win.\",\n",
    "        \"Wall St. Bears Claw Back Into the Black (Reuters) Reuters - Short-sellers, Wall Street's dwindling\\band of ultra-cynics, are seeing green again.\",\n",
    "        \"Gene Blocker Turns Monkeys Into Workaholics - Study (Reuters) Reuters - Procrastinating monkeys were turned\\into workaholics using a gene treatment to block a key brain\\compound, U.S. researchers reported on Wednesday.\"]\n",
    "for nw in news:\n",
    "    r = classifier(nw)\n",
    "    print(r)"
   ]
  },
  {
   "cell_type": "code",
   "execution_count": 9,
   "id": "45fffbc1-6638-4250-a38b-afb5e5d3a52d",
   "metadata": {},
   "outputs": [
    {
     "data": {
      "text/plain": [
       "[{'label': 'Sports', 'score': 0.9885388016700745}]"
      ]
     },
     "execution_count": 9,
     "metadata": {},
     "output_type": "execute_result"
    }
   ],
   "source": [
    "text = \"Netherlands star Lineth Beerensteyn delighted by ‘big mouth’ US’ elimination from Women’s World Cup\"\n",
    "classifier(text)"
   ]
  },
  {
   "cell_type": "markdown",
   "id": "7a04a63e-e0f9-4555-b389-f533558a0c1c",
   "metadata": {},
   "source": [
    "## Text Classification in Automotive Industry\n",
    "\n",
    "Field data analysis in the automotive industry is crucial for several reasons, primarily centered around improving vehicle design, performance, safety, and overall customer satisfaction. One of the most important statistics is the distribution on the failure modes of the vehicles. The main failure modes are\n",
    "\n",
    "- **Engine and Transmission Failures**: Problems with the engine or transmission can lead to significant performance issues, reduced fuel efficiency, and even complete breakdowns.\n",
    "- **Electrical System Failures**: Malfunctions in the electrical system can cause issues with lights, sensors, controls, and other critical components.\n",
    "- **Brake System Failures**: Brake failure can be extremely dangerous, compromising vehicle safety and leading to accidents.\n",
    "- **Suspension and Steering Failures**: Faulty suspension or steering systems can cause handling problems and compromise the vehicle's stability.\n",
    "- **Airbag and Safety System Failures**: Failure of airbags and other safety systems can result in severe injuries during accidents.\n",
    "- **Fuel System Failures**: Issues with the fuel system can lead to fuel leaks, reduced efficiency, and even fires.\n",
    "- **Exhaust System Failures**: Problems in the exhaust system can result in increased emissions, decreased performance, and environmental issues.\n",
    "- **Cooling System Failures**: Failure of the cooling system can lead to engine overheating and potential damage.\n",
    "- **Tire Failures**: Defective or worn-out tires can result in blowouts and accidents.\n",
    "- **Electronic Component Failures**: Problems with electronic components, such as the infotainment system or computer modules, can lead to malfunctions and inconvenience for the driver.\n",
    "\n",
    "\n",
    "These information can be gathered from customer and/or technician comments, but they are stored in unstructured text data, e.g.:\n",
    "\n",
    "- The exhaust system on my car started to rattle and vibrate while driving - Exhaust System Failures\n",
    "- The engine failed due to a faulty fuel pump. - Engine and Transmission Failures"
   ]
  },
  {
   "cell_type": "code",
   "execution_count": 14,
   "id": "61cba393-dc7b-469e-9970-864e66d5e48b",
   "metadata": {},
   "outputs": [
    {
     "data": {
      "text/html": [
       "<div>\n",
       "<style scoped>\n",
       "    .dataframe tbody tr th:only-of-type {\n",
       "        vertical-align: middle;\n",
       "    }\n",
       "\n",
       "    .dataframe tbody tr th {\n",
       "        vertical-align: top;\n",
       "    }\n",
       "\n",
       "    .dataframe thead th {\n",
       "        text-align: right;\n",
       "    }\n",
       "</style>\n",
       "<table border=\"1\" class=\"dataframe\">\n",
       "  <thead>\n",
       "    <tr style=\"text-align: right;\">\n",
       "      <th></th>\n",
       "      <th>comment</th>\n",
       "      <th>failure_mode</th>\n",
       "      <th>failed_component</th>\n",
       "      <th>ground_truth</th>\n",
       "      <th>creator</th>\n",
       "    </tr>\n",
       "  </thead>\n",
       "  <tbody>\n",
       "    <tr>\n",
       "      <th>18</th>\n",
       "      <td>The engine failed due to a faulty fuel pump.</td>\n",
       "      <td>Engine Failure</td>\n",
       "      <td>Fuel Pump</td>\n",
       "      <td>Engine and Transmission Failures</td>\n",
       "      <td>technician</td>\n",
       "    </tr>\n",
       "    <tr>\n",
       "      <th>624</th>\n",
       "      <td>The exhaust system on my car started to rattle...</td>\n",
       "      <td>Exhaust System Failures</td>\n",
       "      <td>Exhaust Hanger</td>\n",
       "      <td>Exhaust System Failures</td>\n",
       "      <td>customer</td>\n",
       "    </tr>\n",
       "    <tr>\n",
       "      <th>208</th>\n",
       "      <td>I had to replace my brake shoes because they w...</td>\n",
       "      <td>Brake System Failures</td>\n",
       "      <td>Brake Shoes</td>\n",
       "      <td>Brake System Failures</td>\n",
       "      <td>customer</td>\n",
       "    </tr>\n",
       "    <tr>\n",
       "      <th>947</th>\n",
       "      <td>The car's fuel gauge stopped working and then ...</td>\n",
       "      <td>Electronic Component Failures</td>\n",
       "      <td>Fuel Pump Control Module</td>\n",
       "      <td>Electronic Component Failures</td>\n",
       "      <td>customer</td>\n",
       "    </tr>\n",
       "    <tr>\n",
       "      <th>795</th>\n",
       "      <td>The radiator cap is not sealing properly, caus...</td>\n",
       "      <td>Cooling System Failures</td>\n",
       "      <td>Radiator Cap</td>\n",
       "      <td>Cooling System Failures</td>\n",
       "      <td>technician</td>\n",
       "    </tr>\n",
       "    <tr>\n",
       "      <th>520</th>\n",
       "      <td>My car suddenly stopped in the middle of the r...</td>\n",
       "      <td>Fuel System Failures</td>\n",
       "      <td>Fuel Pump</td>\n",
       "      <td>Fuel System Failures</td>\n",
       "      <td>customer</td>\n",
       "    </tr>\n",
       "    <tr>\n",
       "      <th>682</th>\n",
       "      <td>The exhaust pipe on my car rusted through and ...</td>\n",
       "      <td>Exhaust System Failures</td>\n",
       "      <td>Exhaust Pipe</td>\n",
       "      <td>Exhaust System Failures</td>\n",
       "      <td>customer</td>\n",
       "    </tr>\n",
       "    <tr>\n",
       "      <th>368</th>\n",
       "      <td>My car's suspension felt very loose and wobbly...</td>\n",
       "      <td>Suspension and Steering Failures</td>\n",
       "      <td>Control Arm Bushing</td>\n",
       "      <td>Suspension and Steering Failures</td>\n",
       "      <td>customer</td>\n",
       "    </tr>\n",
       "    <tr>\n",
       "      <th>433</th>\n",
       "      <td>The airbag deployed unexpectedly, causing inju...</td>\n",
       "      <td>Airbag and Safety System Failures</td>\n",
       "      <td>Airbag Inflator</td>\n",
       "      <td>Airbag and Safety System Failures</td>\n",
       "      <td>technician</td>\n",
       "    </tr>\n",
       "    <tr>\n",
       "      <th>966</th>\n",
       "      <td>The car's ABS warning light came on and the br...</td>\n",
       "      <td>Electronic Component Failures</td>\n",
       "      <td>ABS Control Module</td>\n",
       "      <td>Electronic Component Failures</td>\n",
       "      <td>customer</td>\n",
       "    </tr>\n",
       "    <tr>\n",
       "      <th>162</th>\n",
       "      <td>The headlights were dim and the battery kept d...</td>\n",
       "      <td>Electrical System Failures</td>\n",
       "      <td>Wiring</td>\n",
       "      <td>Electrical System Failures</td>\n",
       "      <td>customer</td>\n",
       "    </tr>\n",
       "    <tr>\n",
       "      <th>631</th>\n",
       "      <td>The muffler is damaged and causing excessive n...</td>\n",
       "      <td>Exhaust System Failures</td>\n",
       "      <td>Muffler</td>\n",
       "      <td>Exhaust System Failures</td>\n",
       "      <td>technician</td>\n",
       "    </tr>\n",
       "  </tbody>\n",
       "</table>\n",
       "</div>"
      ],
      "text/plain": [
       "                                               comment  \\\n",
       "18        The engine failed due to a faulty fuel pump.   \n",
       "624  The exhaust system on my car started to rattle...   \n",
       "208  I had to replace my brake shoes because they w...   \n",
       "947  The car's fuel gauge stopped working and then ...   \n",
       "795  The radiator cap is not sealing properly, caus...   \n",
       "520  My car suddenly stopped in the middle of the r...   \n",
       "682  The exhaust pipe on my car rusted through and ...   \n",
       "368  My car's suspension felt very loose and wobbly...   \n",
       "433  The airbag deployed unexpectedly, causing inju...   \n",
       "966  The car's ABS warning light came on and the br...   \n",
       "162  The headlights were dim and the battery kept d...   \n",
       "631  The muffler is damaged and causing excessive n...   \n",
       "\n",
       "                          failure_mode          failed_component  \\\n",
       "18                      Engine Failure                 Fuel Pump   \n",
       "624            Exhaust System Failures            Exhaust Hanger   \n",
       "208              Brake System Failures               Brake Shoes   \n",
       "947      Electronic Component Failures  Fuel Pump Control Module   \n",
       "795            Cooling System Failures              Radiator Cap   \n",
       "520               Fuel System Failures                 Fuel Pump   \n",
       "682            Exhaust System Failures              Exhaust Pipe   \n",
       "368   Suspension and Steering Failures       Control Arm Bushing   \n",
       "433  Airbag and Safety System Failures           Airbag Inflator   \n",
       "966      Electronic Component Failures        ABS Control Module   \n",
       "162         Electrical System Failures                    Wiring   \n",
       "631            Exhaust System Failures                   Muffler   \n",
       "\n",
       "                          ground_truth     creator  \n",
       "18    Engine and Transmission Failures  technician  \n",
       "624            Exhaust System Failures    customer  \n",
       "208              Brake System Failures    customer  \n",
       "947      Electronic Component Failures    customer  \n",
       "795            Cooling System Failures  technician  \n",
       "520               Fuel System Failures    customer  \n",
       "682            Exhaust System Failures    customer  \n",
       "368   Suspension and Steering Failures    customer  \n",
       "433  Airbag and Safety System Failures  technician  \n",
       "966      Electronic Component Failures    customer  \n",
       "162         Electrical System Failures    customer  \n",
       "631            Exhaust System Failures  technician  "
      ]
     },
     "execution_count": 14,
     "metadata": {},
     "output_type": "execute_result"
    }
   ],
   "source": [
    "# Lets first take a look onto some dataset containing customer and technician comments\n",
    "# Load dataset\n",
    "df = pd.read_parquet('automotive_failure_mode_comments_01.parquet')\n",
    "idx = [18, 624] + random.choices(df.index, k=10)\n",
    "df.loc[idx, :]"
   ]
  },
  {
   "cell_type": "code",
   "execution_count": 17,
   "id": "07889bdd-a5a5-4086-853a-42a044a6f232",
   "metadata": {},
   "outputs": [
    {
     "name": "stdout",
     "output_type": "stream",
     "text": [
      "['Engine and Transmission Failures' 'Electrical System Failures'\n",
      " 'Brake System Failures' 'Suspension and Steering Failures'\n",
      " 'Airbag and Safety System Failures' 'Fuel System Failures'\n",
      " 'Exhaust System Failures' 'Cooling System Failures' 'Tire Failures'\n",
      " 'Electronic Component Failures']\n"
     ]
    }
   ],
   "source": [
    "# Take the ground truth labels\n",
    "failure_mode_labels = df[\"ground_truth\"].unique()\n",
    "print(failure_mode_labels)"
   ]
  },
  {
   "cell_type": "markdown",
   "id": "48c7ab0a-a083-462f-8eab-0a792dcd4974",
   "metadata": {},
   "source": [
    "## Custom Text Classification with RoBERTa\n",
    "\n",
    "The approach to use a text classification model is obvious. However, the main problem us, that such models have no knwoledge of custom data and must first trained on them.\n",
    "\n",
    "We will use the model RoBERTa (Robust optimized BERT approach), which is based on Google’s BERT model released in 2018. RoBERTa is a transformers model (123 million parameters) pretrained on a large corpus of English data in a self-supervised fashion. This means it was pretrained on the raw texts only, with no humans labelling them in any way (which is why it can use lots of publicly available data) with an automatic process to generate inputs and labels from those texts."
   ]
  },
  {
   "cell_type": "code",
   "execution_count": 19,
   "id": "6ccb890b-0dc6-4b47-9703-1e207c57ece0",
   "metadata": {},
   "outputs": [
    {
     "name": "stderr",
     "output_type": "stream",
     "text": [
      "Some weights of RobertaForSequenceClassification were not initialized from the model checkpoint at roberta-base and are newly initialized: ['classifier.out_proj.bias', 'classifier.dense.bias', 'classifier.out_proj.weight', 'classifier.dense.weight']\n",
      "You should probably TRAIN this model on a down-stream task to be able to use it for predictions and inference.\n"
     ]
    },
    {
     "data": {
      "text/plain": [
       "[{'label': 'LABEL_1', 'score': 0.5000951886177063}]"
      ]
     },
     "execution_count": 19,
     "metadata": {},
     "output_type": "execute_result"
    }
   ],
   "source": [
    "# Without training, RoBERTa is just guessing some labels\n",
    "\n",
    "model_id = \"roberta-base\"\n",
    "base_pipe = pipeline(\"text-classification\", model=model_id, device=0)\n",
    "text = \"The engine failed due to a faulty fuel pump.\"\n",
    "base_pipe(text)"
   ]
  },
  {
   "cell_type": "markdown",
   "id": "0111d639-d975-4e3a-9ea7-2a4226048a14",
   "metadata": {},
   "source": [
    "# Fine Tune RoBERTa\n",
    "\n",
    "jump to the notebook HandsOn - Fine Tuning"
   ]
  },
  {
   "cell_type": "markdown",
   "id": "0082e98a-0362-425b-9868-fa5c65361197",
   "metadata": {},
   "source": [
    "### After fine-tuning the model, we can now use it for text classification in our use-case"
   ]
  },
  {
   "cell_type": "code",
   "execution_count": 40,
   "id": "90f3da05-ef33-48a3-a82b-2ca7cb35a9b0",
   "metadata": {},
   "outputs": [],
   "source": [
    "# Set use-case configs\n",
    "model_id = \"roberta-base\"\n",
    "repository_id = \"roberta-base-fine-tuned\"\n",
    "label_column = \"ground_truth\"\n",
    "\n",
    "# Load dataset\n",
    "df = pd.read_parquet('automotive_failure_mode_comments_01.parquet')\n",
    "df_fine_tuning = pd.DataFrame()\n",
    "df_fine_tuning[\"text\"] = df[\"comment\"]\n",
    "df_fine_tuning[\"label\"] = df[label_column]\n",
    "\n",
    "labels = df_fine_tuning[\"label\"].unique()\n",
    "label2id, id2label = dict(), dict()\n",
    "for i, label in enumerate(labels):\n",
    "    label2id[label] = i\n",
    "    id2label[i] = label\n",
    "df_fine_tuning[\"label\"] = df_fine_tuning[\"label\"].map(label2id)\n",
    "\n",
    "train_text, val_text, train_labels, val_labels = train_test_split(\n",
    "    df_fine_tuning[\"text\"].tolist(), df_fine_tuning[\"label\"].tolist(), test_size=0.2, random_state=1909\n",
    ")\n",
    "train_data = {\"text\": train_text}\n",
    "train_data[\"label\"] = train_labels\n",
    "train_dataset = Dataset.from_dict(train_data).with_format(\"torch\")\n",
    "val_data = {\"text\": val_text}\n",
    "val_data[\"label\"] = val_labels\n",
    "val_dataset = Dataset.from_dict(val_data).with_format(\"torch\")"
   ]
  },
  {
   "cell_type": "code",
   "execution_count": 41,
   "id": "f09bbd6e-b77f-4688-b3fa-9c344ae9e337",
   "metadata": {},
   "outputs": [
    {
     "name": "stderr",
     "output_type": "stream",
     "text": [
      "Some weights of RobertaForSequenceClassification were not initialized from the model checkpoint at roberta-base and are newly initialized: ['classifier.out_proj.bias', 'classifier.dense.bias', 'classifier.out_proj.weight', 'classifier.dense.weight']\n",
      "You should probably TRAIN this model on a down-stream task to be able to use it for predictions and inference.\n",
      "The model 'PeftModelForSequenceClassification' is not supported for text-classification. Supported models are ['AlbertForSequenceClassification', 'BartForSequenceClassification', 'BertForSequenceClassification', 'BigBirdForSequenceClassification', 'BigBirdPegasusForSequenceClassification', 'BioGptForSequenceClassification', 'BloomForSequenceClassification', 'CamembertForSequenceClassification', 'CanineForSequenceClassification', 'ConvBertForSequenceClassification', 'CTRLForSequenceClassification', 'Data2VecTextForSequenceClassification', 'DebertaForSequenceClassification', 'DebertaV2ForSequenceClassification', 'DistilBertForSequenceClassification', 'ElectraForSequenceClassification', 'ErnieForSequenceClassification', 'ErnieMForSequenceClassification', 'EsmForSequenceClassification', 'FalconForSequenceClassification', 'FlaubertForSequenceClassification', 'FNetForSequenceClassification', 'FunnelForSequenceClassification', 'GPT2ForSequenceClassification', 'GPT2ForSequenceClassification', 'GPTBigCodeForSequenceClassification', 'GPTNeoForSequenceClassification', 'GPTNeoXForSequenceClassification', 'GPTJForSequenceClassification', 'IBertForSequenceClassification', 'LayoutLMForSequenceClassification', 'LayoutLMv2ForSequenceClassification', 'LayoutLMv3ForSequenceClassification', 'LEDForSequenceClassification', 'LiltForSequenceClassification', 'LlamaForSequenceClassification', 'LongformerForSequenceClassification', 'LukeForSequenceClassification', 'MarkupLMForSequenceClassification', 'MBartForSequenceClassification', 'MegaForSequenceClassification', 'MegatronBertForSequenceClassification', 'MobileBertForSequenceClassification', 'MPNetForSequenceClassification', 'MraForSequenceClassification', 'MvpForSequenceClassification', 'NezhaForSequenceClassification', 'NystromformerForSequenceClassification', 'OpenLlamaForSequenceClassification', 'OpenAIGPTForSequenceClassification', 'OPTForSequenceClassification', 'PerceiverForSequenceClassification', 'PLBartForSequenceClassification', 'QDQBertForSequenceClassification', 'ReformerForSequenceClassification', 'RemBertForSequenceClassification', 'RobertaForSequenceClassification', 'RobertaPreLayerNormForSequenceClassification', 'RoCBertForSequenceClassification', 'RoFormerForSequenceClassification', 'SqueezeBertForSequenceClassification', 'TapasForSequenceClassification', 'TransfoXLForSequenceClassification', 'XLMForSequenceClassification', 'XLMRobertaForSequenceClassification', 'XLMRobertaXLForSequenceClassification', 'XLNetForSequenceClassification', 'XmodForSequenceClassification', 'YosoForSequenceClassification'].\n"
     ]
    },
    {
     "name": "stdout",
     "output_type": "stream",
     "text": [
      "Evaluation result for roberta-base: {'accuracy': 0.08, 'total_time_in_seconds': 4.596960440998373, 'samples_per_second': 43.507009156807925, 'latency_in_seconds': 0.022984802204991862}\n",
      "Evaluation result for roberta-base-fine-tuned: {'accuracy': 0.99, 'total_time_in_seconds': 4.937323142999958, 'samples_per_second': 40.50778006773897, 'latency_in_seconds': 0.024686615714999787}\n"
     ]
    }
   ],
   "source": [
    "# Load the fine-tuned model\n",
    "peft_model_id = repository_id\n",
    "config = PeftConfig.from_pretrained(peft_model_id)\n",
    "inference_model = AutoModelForSequenceClassification.from_pretrained(config.base_model_name_or_path, id2label=id2label)\n",
    "tokenizer = AutoTokenizer.from_pretrained(config.base_model_name_or_path)\n",
    "\n",
    "# model evaluation\n",
    "metric = evaluate.load(\"accuracy\")\n",
    "task_evaluator = evaluator(\"text-classification\")\n",
    "\n",
    "# original model\n",
    "pipe1 = pipeline(\"text-classification\", model=inference_model, tokenizer=tokenizer, device=0)\n",
    "\n",
    "results1 = task_evaluator.compute(\n",
    "    model_or_pipeline=pipe1,\n",
    "    data=val_dataset,\n",
    "    metric=metric,\n",
    "    label_mapping=label2id,\n",
    ")\n",
    "\n",
    "# fine-tuned model\n",
    "model_finetuned = PeftModel.from_pretrained(inference_model, peft_model_id)\n",
    "pipe2 = pipeline(\"text-classification\", tokenizer=tokenizer, model=model_finetuned, device=0)\n",
    "\n",
    "results2 = task_evaluator.compute(\n",
    "    model_or_pipeline=pipe2,\n",
    "    data=val_dataset,\n",
    "    metric=metric,\n",
    "    label_mapping=label2id,\n",
    ")\n",
    "\n",
    "print(f\"Evaluation result for {inference_model.name_or_path}: {results1}\")\n",
    "print(f\"Evaluation result for {peft_model_id}: {results2}\")\n"
   ]
  },
  {
   "cell_type": "markdown",
   "id": "5fe97546-310d-4682-a0d8-b78199046f9f",
   "metadata": {},
   "source": [
    "Evaluation result for roberta-base: {'accuracy': 0.08, 'total_time_in_seconds': 4.596960440998373, 'samples_per_second': 43.507009156807925, 'latency_in_seconds': 0.022984802204991862}\n",
    "\n",
    "\n",
    "Evaluation result for roberta-base-fine-tuned: {'accuracy': 0.99, 'total_time_in_seconds': 4.937323142999958, 'samples_per_second': 40.50778006773897, 'latency_in_seconds': 0.024686615714999787}"
   ]
  },
  {
   "cell_type": "markdown",
   "id": "54f0a9c3-a812-4e06-93be-21adf93ef19a",
   "metadata": {},
   "source": [
    "## Zero-Shot-Classifcation\n",
    "\n",
    "However, there already exists models which can handle custom labels, e.g. bart-large-mnli (406 million parameters) "
   ]
  },
  {
   "cell_type": "code",
   "execution_count": 35,
   "id": "baa52c0e-5d73-43c3-9c97-1e234d31663a",
   "metadata": {},
   "outputs": [],
   "source": [
    "# zero-shot model\n",
    "zero_shot_pipe = pipeline(\"zero-shot-classification\", model=\"facebook/bart-large-mnli\", device=0)"
   ]
  },
  {
   "cell_type": "code",
   "execution_count": 37,
   "id": "df1e5768-517e-4368-8a97-de4d8d94b102",
   "metadata": {},
   "outputs": [
    {
     "data": {
      "text/plain": [
       "{'sequence': 'The exhaust system on my car started to rattle and vibrate while driving',\n",
       " 'labels': ['Exhaust System Failures',\n",
       "  'Electronic Component Failures',\n",
       "  'Fuel System Failures',\n",
       "  'Cooling System Failures',\n",
       "  'Airbag and Safety System Failures',\n",
       "  'Suspension and Steering Failures',\n",
       "  'Engine and Transmission Failures',\n",
       "  'Electrical System Failures',\n",
       "  'Brake System Failures',\n",
       "  'Tire Failures'],\n",
       " 'scores': [0.5082904696464539,\n",
       "  0.09095343202352524,\n",
       "  0.08623526245355606,\n",
       "  0.08465725928544998,\n",
       "  0.055397819727659225,\n",
       "  0.04951249063014984,\n",
       "  0.044453009963035583,\n",
       "  0.034748297184705734,\n",
       "  0.02875005453824997,\n",
       "  0.017001882195472717]}"
      ]
     },
     "execution_count": 37,
     "metadata": {},
     "output_type": "execute_result"
    }
   ],
   "source": [
    "c1 = \"The exhaust system on my car started to rattle and vibrate while driving\" #Exhaust System Failures\n",
    "zero_shot_pipe(c1, failure_mode_labels)"
   ]
  },
  {
   "cell_type": "code",
   "execution_count": 38,
   "id": "1c435aa0-6111-4e6e-9d87-0fb9d4714e97",
   "metadata": {},
   "outputs": [
    {
     "data": {
      "text/plain": [
       "{'sequence': 'The engine failed due to a faulty fuel pump.',\n",
       " 'labels': ['Fuel System Failures',\n",
       "  'Engine and Transmission Failures',\n",
       "  'Exhaust System Failures',\n",
       "  'Suspension and Steering Failures',\n",
       "  'Electronic Component Failures',\n",
       "  'Brake System Failures',\n",
       "  'Cooling System Failures',\n",
       "  'Airbag and Safety System Failures',\n",
       "  'Electrical System Failures',\n",
       "  'Tire Failures'],\n",
       " 'scores': [0.7950432896614075,\n",
       "  0.07396596670150757,\n",
       "  0.036834169179201126,\n",
       "  0.01830694079399109,\n",
       "  0.018107235431671143,\n",
       "  0.014119613915681839,\n",
       "  0.012575920671224594,\n",
       "  0.012344281189143658,\n",
       "  0.011518999002873898,\n",
       "  0.007183573208749294]}"
      ]
     },
     "execution_count": 38,
     "metadata": {},
     "output_type": "execute_result"
    }
   ],
   "source": [
    "c2 = \"The engine failed due to a faulty fuel pump.\" # Engine and Transmission Failures\n",
    "zero_shot_pipe(c2, failure_mode_labels)"
   ]
  },
  {
   "cell_type": "code",
   "execution_count": 39,
   "id": "bbdcbfff-1637-4127-877f-86265e81e061",
   "metadata": {},
   "outputs": [
    {
     "name": "stdout",
     "output_type": "stream",
     "text": [
      "Evaluation result for zero-shot bart-large-mnli: 0.875\n"
     ]
    }
   ],
   "source": [
    "res = zero_shot_pipe(val_dataset[\"text\"], candidate_labels=failure_mode_labels)\n",
    "num_matching = 0\n",
    "for i, r in enumerate(res):\n",
    "    predicted_label = label2id[r[\"labels\"][0]]\n",
    "    gt_label = val_dataset[\"label\"][i]\n",
    "    num_matching += int(predicted_label == gt_label)\n",
    "\n",
    "print(f\"Evaluation result for zero-shot bart-large-mnli: {num_matching/len(val_dataset['text'])}\")"
   ]
  },
  {
   "cell_type": "markdown",
   "id": "7a88040c-dd62-422e-ad6e-8f3c811f2888",
   "metadata": {},
   "source": [
    "Evaluation result for zero-shot bart-large-mnli: 0.875"
   ]
  },
  {
   "cell_type": "code",
   "execution_count": null,
   "id": "6245a4af-b541-462c-b55c-99dfa4913db9",
   "metadata": {},
   "outputs": [],
   "source": []
  }
 ],
 "metadata": {
  "kernelspec": {
   "display_name": "Python 3 (ipykernel)",
   "language": "python",
   "name": "python3"
  },
  "language_info": {
   "codemirror_mode": {
    "name": "ipython",
    "version": 3
   },
   "file_extension": ".py",
   "mimetype": "text/x-python",
   "name": "python",
   "nbconvert_exporter": "python",
   "pygments_lexer": "ipython3",
   "version": "3.11.4"
  }
 },
 "nbformat": 4,
 "nbformat_minor": 5
}
